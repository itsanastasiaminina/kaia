{
 "cells": [
  {
   "cell_type": "markdown",
   "id": "64fb1e72-8643-48e7-80f1-868857e3584f",
   "metadata": {},
   "source": [
    "## Docker-based deciders\n",
    "\n",
    "To inject the neural networks into BrainBox, we we use docker-based deciders. We package code in containers instead of creating environments or installing the applications in the host system. Its is beneficial for the following reasons:\n",
    "\n",
    "* Installation of the code is streamlined, we use `.Dockerfile` instead of readme files, describing how to install this or that. It is particularly important when neural network requires a third-party software, such as `espeak` for `CoquiTTS`.\n",
    "* The installation is OS-independent, which cannot really be achieved without containers\n",
    "* Sometimes the installation is much easier, as Linux is far superiour to, e.g. Windows, in terms of package management.\n",
    "* These containers are fully reusable outside of Kaia project.\n",
    "* When the time is right, we can scale the system with this approach.\n",
    "* All the models and other resources of the containers are centralized in corresponding resource folders, instead of being placed in random places in the filesystem.\n",
    "\n",
    "For each  the docker-based deciders, we have:\n",
    "* `Settings` class, containing various settings.\n",
    "* `Installer`, the class that creates or pulls the container, runs it in installation mode to pre-download all the models, and can also perform self-test.\n",
    "* `Decider`, which is an API for inference in the model.\n",
    "\n",
    "The way of defining the deciders is still non-stable and thus is not documented. Please read the contents of the corresponding `/kaia/brainbox/deciders` subfolders if you wish to know more about:\n",
    "\n",
    "* `OpenTTS`: installation of the third-party software inside the container\n",
    "* `Whisper`: using a python library with a small self-writen Flask application to provide an access to this library. Also it is an example of the decider that changes the models on-the-fly.\n",
    "* `Resemblyzer`: a python library + Flask server, that can also train the models.\n",
    "\n",
    "`kaia/brainbox/install_and_test.py` is an integration test that installs all the available deciders and runs the self-test procedure in all of them. Run this method if you wish to install the deciders, that are not automatically installed by demo. It will require a lot of time, bandwidth and available disk space. Additionally, `TortoiseTTS` decider may currently only work on the machines with powerful GPU.\n",
    "\n",
    "I run these tests and saved the results to show the inputs and outputs of each in this notebook."
   ]
  },
  {
   "cell_type": "code",
   "execution_count": 2,
   "id": "56fcfd8e-88a5-4c31-83ab-9dc89d71c24b",
   "metadata": {},
   "outputs": [
    {
     "data": {
      "application/vnd.jupyter.widget-view+json": {
       "model_id": "1eb6a3d380ba46c6b766799fd7b20994",
       "version_major": 2,
       "version_minor": 0
      },
      "text/plain": [
       "VBox(children=(HTML(value='<h1>ComfyUI</h1>'), HTML(value='<h2>Text to image</h2>'), HTML(value='<h3>Prompt</h…"
      ]
     },
     "execution_count": 2,
     "metadata": {},
     "output_type": "execute_result"
    }
   ],
   "source": [
    "import shutil\n",
    "from kaia.infra import Loc\n",
    "from kaia.brainbox.core import IntegrationTestResult\n",
    "from pathlib import Path\n",
    "import os \n",
    "def pull_results(reset: bool = False):\n",
    "    dst_path = Path('test_results')\n",
    "    if reset:\n",
    "        shutil.rmtree(dst_path, ignore_errors=True); \n",
    "    os.makedirs(dst_path, exist_ok=True)\n",
    "    src_path = Loc.data_folder / 'brainbox_integration_tests'\n",
    "    for file in os.listdir(src_path):\n",
    "        shutil.copy(src_path/file, dst_path/file)\n",
    "        \n",
    "pull_results(False)\n",
    "IntegrationTestResult.render_notebook_for_folder(Path('test_results'))"
   ]
  }
 ],
 "metadata": {
  "kernelspec": {
   "display_name": "Python 3 (ipykernel)",
   "language": "python",
   "name": "python3"
  },
  "language_info": {
   "codemirror_mode": {
    "name": "ipython",
    "version": 3
   },
   "file_extension": ".py",
   "mimetype": "text/x-python",
   "name": "python",
   "nbconvert_exporter": "python",
   "pygments_lexer": "ipython3",
   "version": "3.11.9"
  }
 },
 "nbformat": 4,
 "nbformat_minor": 5
}
